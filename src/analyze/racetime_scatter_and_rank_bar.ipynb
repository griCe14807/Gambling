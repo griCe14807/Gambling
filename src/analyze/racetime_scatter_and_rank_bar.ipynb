{
 "cells": [
  {
   "cell_type": "code",
   "execution_count": 1,
   "metadata": {
    "collapsed": true
   },
   "outputs": [],
   "source": [
    "# モジュールとかもろもろ準備\n",
    "\n",
    "import matplotlib.pyplot as plt\n",
    "import numpy as np\n",
    "import sys\n",
    "import os\n",
    "\n",
    "current_dir = os.getcwd()\n",
    "sys.path.append(os.path.join(current_dir, '../conf/'))\n",
    "sys.path.append(os.path.join(current_dir, '../crawl/'))\n",
    "sys.path.append(os.path.join(current_dir, '../data_preparing/'))\n",
    "\n",
    "\n",
    "# my module\n",
    "import loader\n",
    "import boatrace_crawler_conf\n",
    "\n",
    "\n",
    "def crawle_race_list(soup):\n",
    "    \"\"\"\n",
    "    soupから選手名をリストとして取得\n",
    "    :return racer_list: 出場選手名を枠順に並べたリスト\n",
    "    \"\"\"\n",
    "\n",
    "    racer_list = []\n",
    "    table = soup.find(class_=\"contentsFrame1_inner\").find_all(class_=\"table1\")[1]\n",
    "    rows = table.find_all(\"tbody\", {\"class\": \"is-fs12\"})\n",
    "\n",
    "    for row in rows:\n",
    "        # 選手名を取得。最後の[1:-1]は改行を削除するため\n",
    "        racer_name = row.find(class_=\"is-fs18 is-fBold\").text[1:-1]\n",
    "        # race_result_listの要素としてクロールした結果のリストを追加\n",
    "        racer_list.append(racer_name)\n",
    "\n",
    "        # racerの書式をダウンロードファイルに合わせる\n",
    "        racer_list_mod = []\n",
    "        for racer_ in racer_list:\n",
    "            racer_ = racer_.split(\"\\u3000\")\n",
    "            if len(racer_[0]) == 1:\n",
    "                racer_[0] = racer_[0] + \"\\u3000\\u3000\"\n",
    "            elif len(racer_[0]) == 2:\n",
    "                racer_[0] = racer_[0][0] + \"\\u3000\" + racer_[0][1]\n",
    "\n",
    "            if len(racer_[-1]) == 1:\n",
    "                racer_[-1] == \"\\u3000\\u3000\" + racer_[-1]\n",
    "                racer = racer_[0] + \"\\u3000\\u3000\\u3000\\u3000\" + racer_[-1]\n",
    "\n",
    "            elif len(racer_[-1]) == 2:\n",
    "                racer_[-1] = racer_[-1][0] + \"\\u3000\" + racer_[-1][1]\n",
    "                racer = racer_[0] + \"\\u3000\\u3000\" + racer_[-1]\n",
    "\n",
    "            racer_list_mod.append(racer)\n",
    "\n",
    "    print(racer_list_mod)\n",
    "\n",
    "    return racer_list_mod\n"
   ]
  },
  {
   "cell_type": "code",
   "execution_count": 2,
   "metadata": {},
   "outputs": [
    {
     "name": "stdout",
     "output_type": "stream",
     "text": [
      "Index(['date', 'venue', 'raceNumber', 'weather', 'windDir', 'windPow',\n",
      "       'waveHight', 'ruler', 'win', 'winOdds', 'place_1', 'placeOdds_1',\n",
      "       'place_2', 'placeOdds_2', 'exacta', 'exactaOdds', 'quinella',\n",
      "       'quinellaOdds', 'wide_1', 'wideOdds_1', 'wide_2', 'wideOdds_2',\n",
      "       'wide_3', 'wideOdds_3', 'trifecta', 'trifectaOdds', 'trio', 'trioOdds',\n",
      "       'rank_1', 'racerId_1', 'racerName_1', 'motor_1', 'boat_1',\n",
      "       'exhibitionTime_1', 'exhibitionRank_1', 'startTime_1', 'raceTime_1',\n",
      "       'rank_2', 'racerId_2', 'racerName_2', 'motor_2', 'boat_2',\n",
      "       'exhibitionTime_2', 'exhibitionRank_2', 'startTime_2', 'raceTime_2',\n",
      "       'rank_3', 'racerId_3', 'racerName_3', 'motor_3', 'boat_3',\n",
      "       'exhibitionTime_3', 'exhibitionRank_3', 'startTime_3', 'raceTime_3',\n",
      "       'rank_4', 'racerId_4', 'racerName_4', 'motor_4', 'boat_4',\n",
      "       'exhibitionTime_4', 'exhibitionRank_4', 'startTime_4', 'raceTime_4',\n",
      "       'rank_5', 'racerId_5', 'racerName_5', 'motor_5', 'boat_5',\n",
      "       'exhibitionTime_5', 'exhibitionRank_5', 'startTime_5', 'raceTime_5',\n",
      "       'rank_6', 'racerId_6', 'racerName_6', 'motor_6', 'boat_6',\n",
      "       'exhibitionTime_6', 'exhibitionRank_6', 'startTime_6', 'raceTime_6'],\n",
      "      dtype='object')\n"
     ]
    }
   ],
   "source": [
    "# 過去のレース結果をdfとして取得\n",
    "the_race_result_df = loader.load_race_results()\n",
    "print(the_race_result_df.columns)"
   ]
  },
  {
   "cell_type": "code",
   "execution_count": 4,
   "metadata": {},
   "outputs": [
    {
     "name": "stdout",
     "output_type": "stream",
     "text": [
      "http://boatrace.jp/owpc/pc/race/racelist?rno=12&jcd=20&hd=20190617\n",
      "['大\\u3000山\\u3000\\u3000千\\u3000広', '松\\u3000本\\u3000\\u3000晶\\u3000恵', '守\\u3000屋\\u3000\\u3000美\\u3000穂', '遠\\u3000藤\\u3000\\u3000エ\\u3000ミ', '平\\u3000高\\u3000\\u3000奈\\u3000菜', '平\\u3000山\\u3000\\u3000智\\u3000加']\n",
      "['大\\u3000山\\u3000\\u3000千\\u3000広', '松\\u3000本\\u3000\\u3000晶\\u3000恵', '守\\u3000屋\\u3000\\u3000美\\u3000穂', '遠\\u3000藤\\u3000\\u3000エ\\u3000ミ', '平\\u3000高\\u3000\\u3000奈\\u3000菜', '平\\u3000山\\u3000\\u3000智\\u3000加']\n"
     ]
    },
    {
     "data": {
      "image/png": "[encoded data removed]",
      "text/plain": [
       "<matplotlib.figure.Figure at 0x2100bf726d8>"
      ]
     },
     "metadata": {},
     "output_type": "display_data"
    }
   ],
   "source": [
    "#### 下記inputを指定して実行 ###\n",
    "\n",
    "# ----------input------------\n",
    "the_rno = \"12R\"\n",
    "the_jcd = \"若　松\"\n",
    "the_hd = \"2019/06/17\"\n",
    "# ---------------------------\n",
    "\n",
    "the_race_url = boatrace_crawler_conf.make_url(\"racelist\", the_rno, the_jcd,the_hd)\n",
    "print(the_race_url)\n",
    "\n",
    "the_soup = boatrace_crawler_conf.html_parser(the_race_url)\n",
    "\n",
    "racer_list = crawle_race_list(the_soup)\n",
    "print(racer_list)\n",
    "\n",
    "fig1 = plt.figure()\n",
    "ax1 = fig1.add_subplot(1, 1, 1)\n",
    "for i, racer in enumerate(racer_list, 1):\n",
    "    filtered_df = the_race_result_df[the_race_result_df[\"racerName_{0}\".format(i)]==racer]\n",
    "    ax1.plot_date(filtered_df[\"date\"], filtered_df[\"raceTime_{0}\".format(i)], label=\"{0}号艇\".format(i))\n",
    "    \n",
    "plt.legend()\n",
    "plt.show()"
   ]
  },
  {
   "cell_type": "code",
   "execution_count": null,
   "metadata": {
    "collapsed": true
   },
   "outputs": [],
   "source": []
  }
 ],
 "metadata": {
  "kernelspec": {
   "display_name": "Python 3",
   "language": "python",
   "name": "python3"
  },
  "language_info": {
   "codemirror_mode": {
    "name": "ipython",
    "version": 3
   },
   "file_extension": ".py",
   "mimetype": "text/x-python",
   "name": "python",
   "nbconvert_exporter": "python",
   "pygments_lexer": "ipython3",
   "version": "3.6.3"
  }
 },
 "nbformat": 4,
 "nbformat_minor": 1
}
