{
 "cells": [
  {
   "cell_type": "code",
   "execution_count": 1,
   "metadata": {},
   "outputs": [],
   "source": [
    "# モジュールとかもろもろ準備\n",
    "\n",
    "import matplotlib.pyplot as plt\n",
    "import numpy as np\n",
    "import sys\n",
    "import os\n",
    "\n",
    "current_dir = os.getcwd()\n",
    "sys.path.append(os.path.join(current_dir, '../conf/'))\n",
    "sys.path.append(os.path.join(current_dir, '../crawl/'))\n",
    "sys.path.append(os.path.join(current_dir, '../data_preparing/'))\n",
    "\n",
    "\n",
    "# my module\n",
    "import loader\n",
    "import boatrace_crawler_conf\n",
    "\n",
    "\n",
    "def crawle_race_list(soup):\n",
    "    \"\"\"\n",
    "    soupから選手名をリストとして取得\n",
    "    :return racer_list: 出場選手名を枠順に並べたリスト\n",
    "    \"\"\"\n",
    "\n",
    "    racer_list = []\n",
    "    table = soup.find(class_=\"contentsFrame1_inner\").find_all(class_=\"table1\")[1]\n",
    "    rows = table.find_all(\"tbody\", {\"class\": \"is-fs12\"})\n",
    "\n",
    "    for row in rows:\n",
    "        # 選手名を取得。最後の[1:-1]は改行を削除するため\n",
    "        racer_name = row.find(class_=\"is-fs18 is-fBold\").text[1:-1]\n",
    "        # race_result_listの要素としてクロールした結果のリストを追加\n",
    "        racer_list.append(racer_name)\n",
    "\n",
    "        # racerの書式をダウンロードファイルに合わせる\n",
    "        racer_list_mod = []\n",
    "        for racer_ in racer_list:\n",
    "            racer_ = racer_.split(\"\\u3000\")\n",
    "            if len(racer_[0]) == 1:\n",
    "                racer_[0] = racer_[0] + \"\\u3000\\u3000\"\n",
    "            elif len(racer_[0]) == 2:\n",
    "                racer_[0] = racer_[0][0] + \"\\u3000\" + racer_[0][1]\n",
    "\n",
    "            if len(racer_[-1]) == 1:\n",
    "                racer_[-1] == \"\\u3000\\u3000\" + racer_[-1]\n",
    "                racer = racer_[0] + \"\\u3000\\u3000\\u3000\\u3000\" + racer_[-1]\n",
    "\n",
    "            elif len(racer_[-1]) == 2:\n",
    "                racer_[-1] = racer_[-1][0] + \"\\u3000\" + racer_[-1][1]\n",
    "                racer = racer_[0] + \"\\u3000\\u3000\" + racer_[-1]\n",
    "\n",
    "            racer_list_mod.append(racer)\n",
    "\n",
    "    print(racer_list_mod)\n",
    "\n",
    "    return racer_list_mod\n"
   ]
  },
  {
   "cell_type": "code",
   "execution_count": 2,
   "metadata": {},
   "outputs": [
    {
     "name": "stdout",
     "output_type": "stream",
     "text": [
      "Index(['date', 'venue', 'raceNumber', 'weather', 'windDir', 'windPow',\n",
      "       'waveHight', 'ruler', 'win', 'winOdds', 'place_1', 'placeOdds_1',\n",
      "       'place_2', 'placeOdds_2', 'exacta', 'exactaOdds', 'quinella',\n",
      "       'quinellaOdds', 'wide_1', 'wideOdds_1', 'wide_2', 'wideOdds_2',\n",
      "       'wide_3', 'wideOdds_3', 'trifecta', 'trifectaOdds', 'trio', 'trioOdds',\n",
      "       'rank_1', 'racerId_1', 'racerName_1', 'motor_1', 'boat_1',\n",
      "       'exhibitionTime_1', 'cource_1', 'startTime_1', 'raceTime_1', 'rank_2',\n",
      "       'racerId_2', 'racerName_2', 'motor_2', 'boat_2', 'exhibitionTime_2',\n",
      "       'cource_2', 'startTime_2', 'raceTime_2', 'rank_3', 'racerId_3',\n",
      "       'racerName_3', 'motor_3', 'boat_3', 'exhibitionTime_3', 'cource_3',\n",
      "       'startTime_3', 'raceTime_3', 'rank_4', 'racerId_4', 'racerName_4',\n",
      "       'motor_4', 'boat_4', 'exhibitionTime_4', 'cource_4', 'startTime_4',\n",
      "       'raceTime_4', 'rank_5', 'racerId_5', 'racerName_5', 'motor_5', 'boat_5',\n",
      "       'exhibitionTime_5', 'cource_5', 'startTime_5', 'raceTime_5', 'rank_6',\n",
      "       'racerId_6', 'racerName_6', 'motor_6', 'boat_6', 'exhibitionTime_6',\n",
      "       'cource_6', 'startTime_6', 'raceTime_6'],\n",
      "      dtype='object')\n"
     ]
    }
   ],
   "source": [
    "# 過去のレース結果をdfとして取得\n",
    "the_race_result_df = loader.load_race_results()\n",
    "print(the_race_result_df.columns)"
   ]
  },
  {
   "cell_type": "code",
   "execution_count": 8,
   "metadata": {},
   "outputs": [
    {
     "name": "stdout",
     "output_type": "stream",
     "text": [
      "http://boatrace.jp/owpc/pc/race/racelist?rno=11&jcd=24&hd=20190724\n",
      "['角\\u3000谷\\u3000\\u3000健\\u3000吾', '黒\\u3000柳\\u3000\\u3000浩\\u3000孝', '上\\u3000條\\u3000\\u3000暢\\u3000嵩', '山\\u3000崎\\u3000\\u3000昭\\u3000生', '広\\u3000次\\u3000\\u3000\\u3000\\u3000修', '山\\u3000口\\u3000\\u3000高\\u3000志']\n",
      "['角\\u3000谷\\u3000\\u3000健\\u3000吾', '黒\\u3000柳\\u3000\\u3000浩\\u3000孝', '上\\u3000條\\u3000\\u3000暢\\u3000嵩', '山\\u3000崎\\u3000\\u3000昭\\u3000生', '広\\u3000次\\u3000\\u3000\\u3000\\u3000修', '山\\u3000口\\u3000\\u3000高\\u3000志']\n"
     ]
    },
    {
     "name": "stderr",
     "output_type": "stream",
     "text": [
      "/usr/local/lib/python3.6/site-packages/matplotlib/backends/backend_agg.py:211: RuntimeWarning: Glyph 21495 missing from current font.\n",
      "  font.set_text(s, 0.0, flags=flags)\n",
      "/usr/local/lib/python3.6/site-packages/matplotlib/backends/backend_agg.py:211: RuntimeWarning: Glyph 33351 missing from current font.\n",
      "  font.set_text(s, 0.0, flags=flags)\n",
      "/usr/local/lib/python3.6/site-packages/matplotlib/backends/backend_agg.py:180: RuntimeWarning: Glyph 21495 missing from current font.\n",
      "  font.set_text(s, 0, flags=flags)\n",
      "/usr/local/lib/python3.6/site-packages/matplotlib/backends/backend_agg.py:180: RuntimeWarning: Glyph 33351 missing from current font.\n",
      "  font.set_text(s, 0, flags=flags)\n"
     ]
    },
    {
     "data": {
      "image/png": "[encoded data removed]",
      "text/plain": [
       "<Figure size 432x288 with 1 Axes>"
      ]
     },
     "metadata": {},
     "output_type": "display_data"
    }
   ],
   "source": [
    "#### 下記inputを指定して実行 ###\n",
    "\n",
    "# ----------input------------\n",
    "the_rno = \"11R\"\n",
    "the_jcd = \"大　村\"\n",
    "the_hd = \"2019/07/24\"\n",
    "# ---------------------------\n",
    "\n",
    "the_race_url = boatrace_crawler_conf.make_url(\"racelist\", the_rno, the_jcd,the_hd)\n",
    "print(the_race_url)\n",
    "\n",
    "the_soup = boatrace_crawler_conf.html_parser(the_race_url)\n",
    "\n",
    "racer_list = crawle_race_list(the_soup)\n",
    "print(racer_list)\n",
    "\n",
    "fig1 = plt.figure()\n",
    "ax1 = fig1.add_subplot(1, 1, 1)\n",
    "for i, racer in enumerate(racer_list, 1):\n",
    "    filtered_df = the_race_result_df[the_race_result_df[\"racerName_{0}\".format(i)]==racer]\n",
    "    ax1.plot_date(filtered_df[\"date\"], filtered_df[\"raceTime_{0}\".format(i)], label=\"{0}号艇\".format(i))\n",
    "    \n",
    "plt.legend()\n",
    "plt.show()"
   ]
  },
  {
   "cell_type": "code",
   "execution_count": null,
   "metadata": {
    "collapsed": true
   },
   "outputs": [],
   "source": []
  }
 ],
 "metadata": {
  "kernelspec": {
   "display_name": "Python 3",
   "language": "python",
   "name": "python3"
  },
  "language_info": {
   "codemirror_mode": {
    "name": "ipython",
    "version": 3
   },
   "file_extension": ".py",
   "mimetype": "text/x-python",
   "name": "python",
   "nbconvert_exporter": "python",
   "pygments_lexer": "ipython3",
   "version": "3.6.5"
  }
 },
 "nbformat": 4,
 "nbformat_minor": 1
}
