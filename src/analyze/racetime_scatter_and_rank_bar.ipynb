{
 "cells": [
  {
   "cell_type": "code",
   "execution_count": null,
   "metadata": {
    "collapsed": true
   },
   "outputs": [],
   "source": [
    "import matplotlib.pyplot as plt\n",
    "import numpy as np\n",
    "import sys\n",
    "import os\n",
    "\n",
    "current_dir = os.path.dirname(os.path.abspath(__file__))\n",
    "sys.path.append(os.path.join(current_dir, '../conf/'))\n",
    "sys.path.append(os.path.join(current_dir, '../../crawl/'))\n",
    "sys.path.append(os.path.join(current_dir, '../../data_preparing/'))\n",
    "\n",
    "\n",
    "# my module\n",
    "import loader\n",
    "import boatrace_crawler_conf\n",
    "\n",
    "\n",
    "def crawle_race_list(soup):\n",
    "    \"\"\"\n",
    "    soupから選手名をリストとして取得\n",
    "    :return racer_list: 出場選手名を枠順に並べたリスト\n",
    "    \"\"\"\n",
    "\n",
    "    racer_list = []\n",
    "    table = soup.find(class_=\"contentsFrame1_inner\").find_all(class_=\"table1\")[1]\n",
    "    rows = table.find_all(\"tbody\", {\"class\": \"is-fs12\"})\n",
    "\n",
    "    for row in rows:\n",
    "        # 選手名を取得。最後の[1:-1]は改行を削除するため\n",
    "        racer_name = row.find(class_=\"is-fs18 is-fBold\").text[1:-1]\n",
    "        # race_result_listの要素としてクロールした結果のリストを追加\n",
    "        racer_list.append(racer_name)\n",
    "\n",
    "        # racerの書式をダウンロードファイルに合わせる\n",
    "        racer_list_mod = []\n",
    "        for racer_ in racer_list:\n",
    "            racer_ = racer_.split(\"\\u3000\")\n",
    "            if len(racer_[0]) == 1:\n",
    "                racer_[0] = racer_[0] + \"\\u3000\\u3000\"\n",
    "            elif len(racer_[0]) == 2:\n",
    "                racer_[0] = racer_[0][0] + \"\\u3000\" + racer_[0][1]\n",
    "\n",
    "            if len(racer_[-1]) == 1:\n",
    "                racer_[-1] == \"\\u3000\\u3000\" + racer_[-1]\n",
    "                racer = racer_[0] + \"\\u3000\\u3000\\u3000\\u3000\" + racer_[-1]\n",
    "\n",
    "            elif len(racer_[-1]) == 2:\n",
    "                racer_[-1] = racer_[-1][0] + \"\\u3000\" + racer_[-1][1]\n",
    "                racer = racer_[0] + \"\\u3000\\u3000\" + racer_[-1]\n",
    "\n",
    "            racer_list_mod.append(racer)\n",
    "\n",
    "    print(racer_list_mod)\n",
    "\n",
    "    return racer_list_mod\n"
   ]
  },
  {
   "cell_type": "code",
   "execution_count": null,
   "metadata": {},
   "outputs": [],
   "source": [
    "# 過去のレース結果をdfとして取得\n",
    "the_race_result_df = loader.load_race_results()\n",
    "print(the_race_result_df)"
   ]
  }
 ],
 "metadata": {
  "kernelspec": {
   "display_name": "Python 2",
   "language": "python",
   "name": "python2"
  },
  "language_info": {
   "codemirror_mode": {
    "name": "ipython",
    "version": 2
   },
   "file_extension": ".py",
   "mimetype": "text/x-python",
   "name": "python",
   "nbconvert_exporter": "python",
   "pygments_lexer": "ipython2",
   "version": "2.7.6"
  }
 },
 "nbformat": 4,
 "nbformat_minor": 0
}
